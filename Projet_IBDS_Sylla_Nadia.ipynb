{
  "cells": [
    {
      "cell_type": "markdown",
      "metadata": {
        "id": "view-in-github",
        "colab_type": "text"
      },
      "source": [
        "<a href=\"https://colab.research.google.com/github/nadiaSylla/Classification-of-flu-vaccine-centers-in-France/blob/main/Projet_IBDS_Sylla_Nadia.ipynb\" target=\"_parent\"><img src=\"https://colab.research.google.com/assets/colab-badge.svg\" alt=\"Open In Colab\"/></a>"
      ]
    },
    {
      "cell_type": "markdown",
      "id": "517d6353",
      "metadata": {
        "id": "517d6353"
      },
      "source": [
        "# Projet IBDS\n",
        "## Classification des centres de vaccins contre la grippe en France\n",
        "Par SYLLA Nadia"
      ]
    },
    {
      "cell_type": "markdown",
      "id": "7d235d18",
      "metadata": {
        "id": "7d235d18"
      },
      "source": [
        "Les données proviennent respectivement de:\n",
        "\n",
        "- https://www.data.gouv.fr/fr/datasets/lieux-de-vaccination-contre-la-grippe-pharmacies-sante-fr/(Data centres de vaccination)\n",
        "\n",
        "- https://explore.data.gouv.fr/tableau/?url=https%3A%2F%2Fwww.data.gouv.fr%2Ffr%2Fdatasets%2Fr%2Fdbe8a621-a9c4-4bc3-9cae-be1699c5ff25 (data code postaux)"
      ]
    },
    {
      "cell_type": "markdown",
      "id": "d66c8988",
      "metadata": {
        "id": "d66c8988"
      },
      "source": [
        "## Importation des librairies pyspark and initialisation de la spark session"
      ]
    },
    {
      "cell_type": "code",
      "source": [
        "## please don't load this code if you are not using google colab\n",
        "!apt-get install openjdk-8-jdk-headless -qq > /dev/null\n",
        "!wget -q http://archive.apache.org/dist/spark/spark-3.1.1/spark-3.1.1-bin-hadoop3.2.tgz\n",
        "!tar xf spark-3.1.1-bin-hadoop3.2.tgz\n",
        "!pip install -q findspark"
      ],
      "metadata": {
        "id": "lRTw6x_cu1GC"
      },
      "id": "lRTw6x_cu1GC",
      "execution_count": null,
      "outputs": []
    },
    {
      "cell_type": "code",
      "metadata": {
        "id": "sdOOq4twHN1K"
      },
      "source": [
        "## please don't load this code if you are not using google colab\n",
        "import os\n",
        "os.environ[\"JAVA_HOME\"] = \"/usr/lib/jvm/java-8-openjdk-amd64\"\n",
        "os.environ[\"SPARK_HOME\"] = \"/content/spark-3.1.1-bin-hadoop3.2\""
      ],
      "execution_count": null,
      "outputs": [],
      "id": "sdOOq4twHN1K"
    },
    {
      "cell_type": "code",
      "source": [
        "## please don't load this code if you are not using google colab\n",
        "!ls"
      ],
      "metadata": {
        "colab": {
          "base_uri": "https://localhost:8080/"
        },
        "id": "8mwIYH3IvA8r",
        "outputId": "31921b61-8244-40a7-fdb7-8f5e178b6ed0"
      },
      "id": "8mwIYH3IvA8r",
      "execution_count": null,
      "outputs": [
        {
          "output_type": "stream",
          "name": "stdout",
          "text": [
            "communes-departement-region.csv  sample_data\t\t    spark-3.1.1-bin-hadoop3.2.tgz\n",
            "data_IBDS.csv\t\t\t spark-3.1.1-bin-hadoop3.2\n"
          ]
        }
      ]
    },
    {
      "cell_type": "code",
      "execution_count": null,
      "id": "ec241097",
      "metadata": {
        "id": "ec241097"
      },
      "outputs": [],
      "source": [
        "import findspark\n",
        "findspark.init()\n",
        "\n",
        "import pyspark\n",
        "\n",
        "from pyspark.sql import SparkSession\n",
        "\n",
        "from pyspark.sql.functions import col, monotonically_increasing_id\n",
        "from datetime import datetime\n",
        "\n",
        "from pyspark.ml import Pipeline\n",
        "from pyspark.ml.classification import RandomForestClassifier, LogisticRegression, MultilayerPerceptronClassifier\n",
        "\n",
        "from pyspark.ml.evaluation import MulticlassClassificationEvaluator\n",
        "from pyspark.ml.feature import HashingTF, IDF, Tokenizer, StopWordsRemover, StringIndexer, VectorAssembler\n",
        "from pyspark.ml.linalg import Vectors\n",
        "from pyspark.ml.tuning import CrossValidator, ParamGridBuilder\n",
        "\n",
        "from pyspark.mllib.evaluation import MulticlassMetrics\n",
        "from pyspark.mllib.util import MLUtils\n",
        "from pyspark.mllib.regression import LabeledPoint\n",
        "\n",
        "from pyspark import SparkConf, SparkContext, SQLContext\n",
        "\n",
        "\n",
        "spark = SparkSession \\\n",
        "    .builder \\\n",
        "    .appName(\"Projet\") \\\n",
        "    .config('spark.sql.warehouse.dir', 'file:///random/path/as/we/need/to/config/this/but/dont/use/it') \\\n",
        "    .config('spark.executor.instances', 10) \\\n",
        "    .getOrCreate()\n"
      ]
    },
    {
      "cell_type": "markdown",
      "id": "5ee047fd",
      "metadata": {
        "id": "5ee047fd"
      },
      "source": [
        "## Lectures des fichiers csv avec spark et creation de dataFrame"
      ]
    },
    {
      "cell_type": "code",
      "execution_count": null,
      "id": "e4a52614",
      "metadata": {
        "id": "e4a52614"
      },
      "outputs": [],
      "source": [
        "## lecture des csv\n",
        "fileVaccin = 'data_IBDS.csv'\n",
        "DataVaccin = spark.read.csv(fileVaccin, header=True, inferSchema=True, sep=\";\")\n",
        "\n",
        "fileCommune = 'communes-departement-region.csv'\n",
        "DataCommune = spark.read.csv(fileCommune, header=True, inferSchema=True, sep=\",\")"
      ]
    },
    {
      "cell_type": "code",
      "execution_count": null,
      "id": "6dfdd82a",
      "metadata": {
        "id": "6dfdd82a",
        "colab": {
          "base_uri": "https://localhost:8080/"
        },
        "outputId": "d38fef25-bdf3-4c00-d900-513c21bce549"
      },
      "outputs": [
        {
          "output_type": "stream",
          "name": "stdout",
          "text": [
            "2825\n",
            "root\n",
            " |-- Finess: string (nullable = true)\n",
            " |-- Titre: string (nullable = true)\n",
            " |-- Adresse_voie 1: string (nullable = true)\n",
            " |-- Adresse_voie 2: string (nullable = true)\n",
            " |-- Adresse_codepostal: integer (nullable = true)\n",
            " |-- Adresse_ville: string (nullable = true)\n",
            " |-- Modalites_accueil: string (nullable = true)\n",
            " |-- Adresse_latitude: string (nullable = true)\n",
            " |-- Adresse_longitude: string (nullable = true)\n",
            "\n",
            "+---------+--------------------+--------------------+--------------+------------------+--------------------+--------------------+--------------------+-----------------+\n",
            "|   Finess|               Titre|      Adresse_voie 1|Adresse_voie 2|Adresse_codepostal|       Adresse_ville|   Modalites_accueil|    Adresse_latitude|Adresse_longitude|\n",
            "+---------+--------------------+--------------------+--------------+------------------+--------------------+--------------------+--------------------+-----------------+\n",
            "|750020927|Pharmacie Dang Trung|237 Rue de Charenton|          null|             75012|               Paris|\"<h3>Informations...|     48.837516000000|   2.391121000000|\n",
            "|750032955|Pharmacie Lemaitr...|    141 Rue Marcadet|          null|             75018|               Paris|\"<h3>Informations...|     48.891153000000|   2.340128000000|\n",
            "|910007533| Pharmacie Du Relais|40 Rue CHARLES MO...|          null|             91210|             Draveil|\"<h3>Informations...|     48.677829000000|   2.411785000000|\n",
            "|750015760| Pharmacie Caumartin| 24 Rue de Caumartin|          null|             75009|               Paris|\"<h3>Informations...|     48.871864000000|   2.328260000000|\n",
            "|750022352|   Pharmacie Serafim|  37 Boulevard Arago|          null|             75013|               Paris|\"<h3>Informations...|     48.835229000000|   2.347606000000|\n",
            "|750017360|     Pharmacie Forge|57 Rue du Faubour...|          null|             75010|               Paris|\"<h3>Informations...|     48.869803000000|   2.370121000000|\n",
            "|920014826|Pharmacie Akar Ba...|74 Avenue Gabriel...|          null|             92230|       Gennevilliers|\"<h3>Informations...|     48.918895000000|   2.295477000000|\n",
            "|750031536|Pharmacie Seror-S...|12 Avenue STEPHAN...|          null|             75017|Paris 17e Arrondi...|\"<h3>Informations...|     48.887702000000|   2.304844000000|\n",
            "|750008575|Grande Pharmacie ...|1 Rue PIERRE LESC...|          null|             75001|               Paris|\"<h3>Informations...|effectuer une dos...|  48.859000000000|\n",
            "|750020703|Pharmacie Du Marc...|    9 Place d’Aligre|          null|             75012|               Paris|\"<h3>Informations...|     48.849167000000|   2.378451000000|\n",
            "|750022857|Pharmacie Du Theatre|69 Rue de la Glac...|          null|             75013|               Paris|\"<h3>Informations...|     48.830361000000|   2.344136000000|\n",
            "|750032385|Pharmacie Des Gal...|29 Rue de Clignan...|          null|             75018|               Paris|\"<h3>Informations...|     48.885632000000|   2.347281000000|\n",
            "|920013646|Pharmacie Republique|24 Rue d’Estienne...|          null|             92400|          Courbevoie|\"<h3>Informations...|adulte à partir d...|  48.901716000000|\n",
            "|750029001|Grande  Pharmacie...|9 Place POSSOZ - ...|          null|             75016|Paris 16e Arrondi...|\"<h3>Informations...|     48.843833000000|   2.269852000000|\n",
            "|930012133|Pharmacie Du Pavé...| 3 Mail Victor Jarra|          null|             93160|      Noisy-le-Grand|\"<h3>Informations...|     48.838912000000|   2.553137000000|\n",
            "|930008784|Pharmacie Maison ...|  11 Place des Fêtes|          null|             93220|               Gagny|\"<h3>Informations...|     48.875541000000|   2.544150000000|\n",
            "|770003846|Pharmacie De Bois...|9 Place de la Rep...|          null|             77590|         Bois-le-Roi|\"<h3>Informations...|     48.469031000000|   2.707010000000|\n",
            "|770008324|Pharmacie Du Val ...|89 Route de Boissise|          null|             77350|    Le Mée-sur-Seine|\"<h3>Informations...|     48.539518000000|   2.640223000000|\n",
            "|770015964|    Pharmacie Millot|16 Rue Auguste Hu...|          null|             77330|   Ozoir-la-Ferrière|\"<h3>Informations...|     48.763416000000|   2.675271000000|\n",
            "|770008712|    Pharmacie Njomou|18 Rue Saint Ambr...|          null|             77000|               Melun|\"<h3>Informations...|     48.534179000000|   2.656880000000|\n",
            "+---------+--------------------+--------------------+--------------+------------------+--------------------+--------------------+--------------------+-----------------+\n",
            "only showing top 20 rows\n",
            "\n"
          ]
        }
      ],
      "source": [
        "# afficher le schema de la dataframe 1\n",
        "print(DataVaccin.count())\n",
        "DataVaccin.printSchema()\n",
        "DataVaccin.show()"
      ]
    },
    {
      "cell_type": "code",
      "execution_count": null,
      "id": "ab19cd5f",
      "metadata": {
        "id": "ab19cd5f",
        "outputId": "f5ce6873-39df-40d0-9f75-95bb001b72a5",
        "colab": {
          "base_uri": "https://localhost:8080/"
        }
      },
      "outputs": [
        {
          "output_type": "stream",
          "name": "stdout",
          "text": [
            "39201\n",
            "root\n",
            " |-- code_commune_INSEE: string (nullable = true)\n",
            " |-- nom_commune_postal: string (nullable = true)\n",
            " |-- code_postal: integer (nullable = true)\n",
            " |-- libelle_acheminement: string (nullable = true)\n",
            " |-- ligne_5: string (nullable = true)\n",
            " |-- latitude: double (nullable = true)\n",
            " |-- longitude: double (nullable = true)\n",
            " |-- code_commune: integer (nullable = true)\n",
            " |-- article: string (nullable = true)\n",
            " |-- nom_commune: string (nullable = true)\n",
            " |-- nom_commune_complet: string (nullable = true)\n",
            " |-- code_departement: string (nullable = true)\n",
            " |-- nom_departement: string (nullable = true)\n",
            " |-- code_region: integer (nullable = true)\n",
            " |-- nom_region: string (nullable = true)\n",
            "\n",
            "+------------------+--------------------+-----------+--------------------+---------+-------------+-------------+------------+-------+--------------------+--------------------+----------------+---------------+-----------+--------------------+\n",
            "|code_commune_INSEE|  nom_commune_postal|code_postal|libelle_acheminement|  ligne_5|     latitude|    longitude|code_commune|article|         nom_commune| nom_commune_complet|code_departement|nom_departement|code_region|          nom_region|\n",
            "+------------------+--------------------+-----------+--------------------+---------+-------------+-------------+------------+-------+--------------------+--------------------+----------------+---------------+-----------+--------------------+\n",
            "|              1001|L ABERGEMENT CLEM...|       1400|L ABERGEMENT CLEM...|     null|46.1534255214|4.92611354223|           1|     L'|Abergement-Clémen...|L'Abergement-Clém...|               1|            Ain|         84|Auvergne-Rhône-Alpes|\n",
            "|              1002|L ABERGEMENT DE V...|       1640|L ABERGEMENT DE V...|     null|46.0091878776|5.42801696363|           2|     L'| Abergement-de-Varey|L'Abergement-de-V...|               1|            Ain|         84|Auvergne-Rhône-Alpes|\n",
            "|              1004|   AMBERIEU EN BUGEY|       1500|   AMBERIEU EN BUGEY|     null|45.9608475114| 5.3729257777|           4|   null|   Ambérieu-en-Bugey|   Ambérieu-en-Bugey|               1|            Ain|         84|Auvergne-Rhône-Alpes|\n",
            "|              1005| AMBERIEUX EN DOMBES|       1330| AMBERIEUX EN DOMBES|     null|45.9961799872|4.91227250796|           5|   null| Ambérieux-en-Dombes| Ambérieux-en-Dombes|               1|            Ain|         84|Auvergne-Rhône-Alpes|\n",
            "|              1006|             AMBLEON|       1300|             AMBLEON|     null|45.7494989044|5.59432017366|           6|   null|             Ambléon|             Ambléon|               1|            Ain|         84|Auvergne-Rhône-Alpes|\n",
            "|              1007|            AMBRONAY|       1500|            AMBRONAY|     null|46.0055913782|5.35760660735|           7|   null|            Ambronay|            Ambronay|               1|            Ain|         84|Auvergne-Rhône-Alpes|\n",
            "|              1008|            AMBUTRIX|       1500|            AMBUTRIX|     null|45.9367134524| 5.3328092349|           8|   null|            Ambutrix|            Ambutrix|               1|            Ain|         84|Auvergne-Rhône-Alpes|\n",
            "|              1009|    ANDERT ET CONDON|       1300|    ANDERT ET CONDON|     null|45.7873565333|5.65788307924|           9|   null|    Andert-et-Condon|    Andert-et-Condon|               1|            Ain|         84|Auvergne-Rhône-Alpes|\n",
            "|              1010|           ANGLEFORT|       1350|           ANGLEFORT|     null|45.9093715116|5.79516005674|          10|   null|           Anglefort|           Anglefort|               1|            Ain|         84|Auvergne-Rhône-Alpes|\n",
            "|              1011|            APREMONT|       1100|            APREMONT|     null|46.2054981558|5.65781475272|          11|   null|            Apremont|            Apremont|               1|            Ain|         84|Auvergne-Rhône-Alpes|\n",
            "|              1012|               ARANC|       1110|               ARANC|     null|46.0015344029|5.51130637511|          12|   null|               Aranc|               Aranc|               1|            Ain|         84|Auvergne-Rhône-Alpes|\n",
            "|              1013|             ARANDAS|       1230|             ARANDAS|     null|45.8908155275|5.49870439091|          13|   null|             Arandas|             Arandas|               1|            Ain|         84|Auvergne-Rhône-Alpes|\n",
            "|              1014|              ARBENT|       1100|              ARBENT|     null|46.2834936005|5.69061651221|          14|   null|              Arbent|              Arbent|               1|            Ain|         84|Auvergne-Rhône-Alpes|\n",
            "|              1015|     ARBOYS EN BUGEY|       1300|     ARBOYS EN BUGEY|ARBIGNIEU|45.7237621545|5.65263086429|          15|   null|     Arboys en Bugey|     Arboys en Bugey|               1|            Ain|         84|Auvergne-Rhône-Alpes|\n",
            "|              1015|     ARBOYS EN BUGEY|       1300|     ARBOYS EN BUGEY|  ST BOIS|45.7237621545|5.65263086429|          15|   null|     Arboys en Bugey|     Arboys en Bugey|               1|            Ain|         84|Auvergne-Rhône-Alpes|\n",
            "|              1016|             ARBIGNY|       1190|             ARBIGNY|     null|46.4776762988| 4.9599416863|          16|   null|             Arbigny|             Arbigny|               1|            Ain|         84|Auvergne-Rhône-Alpes|\n",
            "|              1017|               ARGIS|       1230|               ARGIS|     null|45.9337182132|5.48251100314|          17|   null|               Argis|               Argis|               1|            Ain|         84|Auvergne-Rhône-Alpes|\n",
            "|              1019|               ARMIX|       1510|               ARMIX|     null|45.8541838459|5.58357838695|          19|   null|               Armix|               Armix|               1|            Ain|         84|Auvergne-Rhône-Alpes|\n",
            "|              1021|     ARS SUR FORMANS|       1480|     ARS SUR FORMANS|     null|   45.9934611|4.82199649494|          21|   null|     Ars-sur-Formans|     Ars-sur-Formans|               1|            Ain|         84|Auvergne-Rhône-Alpes|\n",
            "|              1022|            ARTEMARE|       1510|            ARTEMARE|     null|45.8695891748|5.69065283943|          22|   null|            Artemare|            Artemare|               1|            Ain|         84|Auvergne-Rhône-Alpes|\n",
            "+------------------+--------------------+-----------+--------------------+---------+-------------+-------------+------------+-------+--------------------+--------------------+----------------+---------------+-----------+--------------------+\n",
            "only showing top 20 rows\n",
            "\n"
          ]
        }
      ],
      "source": [
        "# afficher le schema de la dataFrame 2\n",
        "print(DataCommune.count())\n",
        "DataCommune.printSchema()\n",
        "DataCommune.show()"
      ]
    },
    {
      "cell_type": "markdown",
      "id": "43c432ec",
      "metadata": {
        "id": "43c432ec"
      },
      "source": [
        "## Préparation des données"
      ]
    },
    {
      "cell_type": "code",
      "execution_count": null,
      "id": "936e724d",
      "metadata": {
        "id": "936e724d"
      },
      "outputs": [],
      "source": [
        "## Retrait des features non exploitables pour l'etude\n",
        "\n",
        "DataVaccin = DataVaccin.drop('Finess', 'Modalites_accueil','Adresse_ville','Adresse_voie 2', 'Adresse_voie 1')\n",
        "DataCommune = DataCommune.drop('code_commune_INSEE', 'libelle_acheminement', 'ligne_5', 'code_commune','article',\n",
        "                               'nom_commune', 'nom_commune_complet', 'code_departement', 'code_departement')"
      ]
    },
    {
      "cell_type": "code",
      "execution_count": null,
      "id": "89d35f71",
      "metadata": {
        "id": "89d35f71"
      },
      "outputs": [],
      "source": [
        "## forcer le type des donnees long. et lat. en double\n",
        "\n",
        "DataVaccin= DataVaccin.withColumn(\"Adresse_latitude\", col(\"Adresse_latitude\").cast(\"Double\"))\n",
        "DataVaccin= DataVaccin.withColumn(\"Adresse_longitude\", col(\"Adresse_longitude\").cast(\"Double\"))"
      ]
    },
    {
      "cell_type": "code",
      "execution_count": null,
      "id": "abfa4a51",
      "metadata": {
        "id": "abfa4a51",
        "outputId": "ae233c24-186d-4944-9e0a-8e1986966995",
        "colab": {
          "base_uri": "https://localhost:8080/"
        }
      },
      "outputs": [
        {
          "output_type": "stream",
          "name": "stdout",
          "text": [
            "root\n",
            " |-- Titre: string (nullable = true)\n",
            " |-- Adresse_codepostal: integer (nullable = true)\n",
            " |-- Adresse_latitude: double (nullable = true)\n",
            " |-- Adresse_longitude: double (nullable = true)\n",
            "\n",
            "root\n",
            " |-- nom_commune_postal: string (nullable = true)\n",
            " |-- code_postal: integer (nullable = true)\n",
            " |-- latitude: double (nullable = true)\n",
            " |-- longitude: double (nullable = true)\n",
            " |-- nom_departement: string (nullable = true)\n",
            " |-- code_region: integer (nullable = true)\n",
            " |-- nom_region: string (nullable = true)\n",
            "\n",
            "+--------------------+------------------+----------------+-----------------+\n",
            "|               Titre|Adresse_codepostal|Adresse_latitude|Adresse_longitude|\n",
            "+--------------------+------------------+----------------+-----------------+\n",
            "|Pharmacie Dang Trung|             75012|       48.837516|         2.391121|\n",
            "|Pharmacie Lemaitr...|             75018|       48.891153|         2.340128|\n",
            "| Pharmacie Du Relais|             91210|       48.677829|         2.411785|\n",
            "| Pharmacie Caumartin|             75009|       48.871864|          2.32826|\n",
            "|   Pharmacie Serafim|             75013|       48.835229|         2.347606|\n",
            "|     Pharmacie Forge|             75010|       48.869803|         2.370121|\n",
            "|Pharmacie Akar Ba...|             92230|       48.918895|         2.295477|\n",
            "|Pharmacie Seror-S...|             75017|       48.887702|         2.304844|\n",
            "|Grande Pharmacie ...|             75001|            null|           48.859|\n",
            "|Pharmacie Du Marc...|             75012|       48.849167|         2.378451|\n",
            "|Pharmacie Du Theatre|             75013|       48.830361|         2.344136|\n",
            "|Pharmacie Des Gal...|             75018|       48.885632|         2.347281|\n",
            "|Pharmacie Republique|             92400|            null|        48.901716|\n",
            "|Grande  Pharmacie...|             75016|       48.843833|         2.269852|\n",
            "|Pharmacie Du Pavé...|             93160|       48.838912|         2.553137|\n",
            "|Pharmacie Maison ...|             93220|       48.875541|          2.54415|\n",
            "|Pharmacie De Bois...|             77590|       48.469031|          2.70701|\n",
            "|Pharmacie Du Val ...|             77350|       48.539518|         2.640223|\n",
            "|    Pharmacie Millot|             77330|       48.763416|         2.675271|\n",
            "|    Pharmacie Njomou|             77000|       48.534179|          2.65688|\n",
            "+--------------------+------------------+----------------+-----------------+\n",
            "only showing top 20 rows\n",
            "\n",
            "+--------------------+-----------+-------------+-------------+---------------+-----------+--------------------+\n",
            "|  nom_commune_postal|code_postal|     latitude|    longitude|nom_departement|code_region|          nom_region|\n",
            "+--------------------+-----------+-------------+-------------+---------------+-----------+--------------------+\n",
            "|L ABERGEMENT CLEM...|       1400|46.1534255214|4.92611354223|            Ain|         84|Auvergne-Rhône-Alpes|\n",
            "|L ABERGEMENT DE V...|       1640|46.0091878776|5.42801696363|            Ain|         84|Auvergne-Rhône-Alpes|\n",
            "|   AMBERIEU EN BUGEY|       1500|45.9608475114| 5.3729257777|            Ain|         84|Auvergne-Rhône-Alpes|\n",
            "| AMBERIEUX EN DOMBES|       1330|45.9961799872|4.91227250796|            Ain|         84|Auvergne-Rhône-Alpes|\n",
            "|             AMBLEON|       1300|45.7494989044|5.59432017366|            Ain|         84|Auvergne-Rhône-Alpes|\n",
            "|            AMBRONAY|       1500|46.0055913782|5.35760660735|            Ain|         84|Auvergne-Rhône-Alpes|\n",
            "|            AMBUTRIX|       1500|45.9367134524| 5.3328092349|            Ain|         84|Auvergne-Rhône-Alpes|\n",
            "|    ANDERT ET CONDON|       1300|45.7873565333|5.65788307924|            Ain|         84|Auvergne-Rhône-Alpes|\n",
            "|           ANGLEFORT|       1350|45.9093715116|5.79516005674|            Ain|         84|Auvergne-Rhône-Alpes|\n",
            "|            APREMONT|       1100|46.2054981558|5.65781475272|            Ain|         84|Auvergne-Rhône-Alpes|\n",
            "|               ARANC|       1110|46.0015344029|5.51130637511|            Ain|         84|Auvergne-Rhône-Alpes|\n",
            "|             ARANDAS|       1230|45.8908155275|5.49870439091|            Ain|         84|Auvergne-Rhône-Alpes|\n",
            "|              ARBENT|       1100|46.2834936005|5.69061651221|            Ain|         84|Auvergne-Rhône-Alpes|\n",
            "|     ARBOYS EN BUGEY|       1300|45.7237621545|5.65263086429|            Ain|         84|Auvergne-Rhône-Alpes|\n",
            "|     ARBOYS EN BUGEY|       1300|45.7237621545|5.65263086429|            Ain|         84|Auvergne-Rhône-Alpes|\n",
            "|             ARBIGNY|       1190|46.4776762988| 4.9599416863|            Ain|         84|Auvergne-Rhône-Alpes|\n",
            "|               ARGIS|       1230|45.9337182132|5.48251100314|            Ain|         84|Auvergne-Rhône-Alpes|\n",
            "|               ARMIX|       1510|45.8541838459|5.58357838695|            Ain|         84|Auvergne-Rhône-Alpes|\n",
            "|     ARS SUR FORMANS|       1480|   45.9934611|4.82199649494|            Ain|         84|Auvergne-Rhône-Alpes|\n",
            "|            ARTEMARE|       1510|45.8695891748|5.69065283943|            Ain|         84|Auvergne-Rhône-Alpes|\n",
            "+--------------------+-----------+-------------+-------------+---------------+-----------+--------------------+\n",
            "only showing top 20 rows\n",
            "\n"
          ]
        }
      ],
      "source": [
        "DataVaccin.printSchema()\n",
        "DataCommune.printSchema()\n",
        "DataVaccin.show()\n",
        "DataCommune.show()"
      ]
    },
    {
      "cell_type": "code",
      "execution_count": null,
      "id": "39eed70d",
      "metadata": {
        "id": "39eed70d"
      },
      "outputs": [],
      "source": [
        "## retrait des donnees Null dans la database primaire\n",
        "DataVaccin= DataVaccin.na.drop()"
      ]
    },
    {
      "cell_type": "code",
      "execution_count": null,
      "id": "969b3877",
      "metadata": {
        "colab": {
          "base_uri": "https://localhost:8080/"
        },
        "id": "969b3877",
        "outputId": "e0f40a79-93a8-419f-db6a-b79476f3f513"
      },
      "outputs": [
        {
          "output_type": "execute_result",
          "data": {
            "text/plain": [
              "2632"
            ]
          },
          "metadata": {},
          "execution_count": 13
        }
      ],
      "source": [
        "# Verification du nombre de ligne\n",
        "DataVaccin.count()"
      ]
    },
    {
      "cell_type": "code",
      "execution_count": null,
      "id": "872fb331",
      "metadata": {
        "id": "872fb331"
      },
      "outputs": [],
      "source": [
        "## Ajout de la colonne Region code dans la dataframe principale DataVaccin par Jointure des deux dataframes\n",
        "\n",
        "# creation d'un index pour l'extraction des donnees apres jointure\n",
        "DataVaccin= DataVaccin.withColumn(\"index\", monotonically_increasing_id())\n",
        "\n",
        "# jointure avec left outer\n",
        "joined_dataset = DataVaccin.join(DataCommune, DataVaccin['Adresse_codepostal']== DataCommune['code_postal'], \"left_outer\")\n",
        "\n",
        "# la colonne avec laquelle on pourra extraire les donnees de facon unique\n",
        "column_to_select_distinct = 'index'\n",
        "\n",
        "# extraction des donnees des centres de vaccin avec leurs codes regionales\n",
        "df = joined_dataset.select(column_to_select_distinct, 'Titre','Adresse_codepostal', 'Adresse_latitude', 'Adresse_longitude',\n",
        "                           'code_region', 'nom_region').distinct().orderBy(column_to_select_distinct)\n"
      ]
    },
    {
      "cell_type": "code",
      "execution_count": null,
      "id": "e4c44440",
      "metadata": {
        "id": "e4c44440",
        "outputId": "922b0f63-a7ae-446e-a09c-1415137d4195",
        "colab": {
          "base_uri": "https://localhost:8080/"
        }
      },
      "outputs": [
        {
          "output_type": "stream",
          "name": "stdout",
          "text": [
            "2632\n",
            "root\n",
            " |-- index: long (nullable = false)\n",
            " |-- Titre: string (nullable = true)\n",
            " |-- Adresse_codepostal: integer (nullable = true)\n",
            " |-- Adresse_latitude: double (nullable = true)\n",
            " |-- Adresse_longitude: double (nullable = true)\n",
            " |-- code_region: integer (nullable = true)\n",
            " |-- nom_region: string (nullable = true)\n",
            "\n",
            "+-----+--------------------+------------------+----------------+-----------------+-----------+-------------+\n",
            "|index|               Titre|Adresse_codepostal|Adresse_latitude|Adresse_longitude|code_region|   nom_region|\n",
            "+-----+--------------------+------------------+----------------+-----------------+-----------+-------------+\n",
            "|    0|Pharmacie Dang Trung|             75012|       48.837516|         2.391121|         11|Île-de-France|\n",
            "|    1|Pharmacie Lemaitr...|             75018|       48.891153|         2.340128|         11|Île-de-France|\n",
            "|    2| Pharmacie Du Relais|             91210|       48.677829|         2.411785|         11|Île-de-France|\n",
            "|    3| Pharmacie Caumartin|             75009|       48.871864|          2.32826|         11|Île-de-France|\n",
            "|    4|   Pharmacie Serafim|             75013|       48.835229|         2.347606|         11|Île-de-France|\n",
            "|    5|     Pharmacie Forge|             75010|       48.869803|         2.370121|         11|Île-de-France|\n",
            "|    6|Pharmacie Akar Ba...|             92230|       48.918895|         2.295477|         11|Île-de-France|\n",
            "|    7|Pharmacie Seror-S...|             75017|       48.887702|         2.304844|         11|Île-de-France|\n",
            "|    8|Pharmacie Du Marc...|             75012|       48.849167|         2.378451|         11|Île-de-France|\n",
            "|    9|Pharmacie Du Theatre|             75013|       48.830361|         2.344136|         11|Île-de-France|\n",
            "|   10|Pharmacie Des Gal...|             75018|       48.885632|         2.347281|         11|Île-de-France|\n",
            "|   11|Grande  Pharmacie...|             75016|       48.843833|         2.269852|         11|Île-de-France|\n",
            "|   12|Pharmacie Du Pavé...|             93160|       48.838912|         2.553137|         11|Île-de-France|\n",
            "|   13|Pharmacie Maison ...|             93220|       48.875541|          2.54415|         11|Île-de-France|\n",
            "|   14|Pharmacie De Bois...|             77590|       48.469031|          2.70701|         11|Île-de-France|\n",
            "|   15|Pharmacie Du Val ...|             77350|       48.539518|         2.640223|         11|Île-de-France|\n",
            "|   16|    Pharmacie Millot|             77330|       48.763416|         2.675271|         11|Île-de-France|\n",
            "|   17|    Pharmacie Njomou|             77000|       48.534179|          2.65688|         11|Île-de-France|\n",
            "|   18|  Pharmacie Du Breon|             77610|       48.702241|         2.871122|         11|Île-de-France|\n",
            "|   19|Pharmacie Guiot-D...|             95520|       49.060093|         2.061672|         11|Île-de-France|\n",
            "+-----+--------------------+------------------+----------------+-----------------+-----------+-------------+\n",
            "only showing top 20 rows\n",
            "\n"
          ]
        }
      ],
      "source": [
        "## verification des resultats apres jointure\n",
        "\n",
        "print(df.count())\n",
        "df.printSchema()\n",
        "df.show()"
      ]
    },
    {
      "cell_type": "code",
      "execution_count": null,
      "id": "4414752b",
      "metadata": {
        "colab": {
          "base_uri": "https://localhost:8080/"
        },
        "id": "4414752b",
        "outputId": "be199401-715a-4365-eafe-96688e8956bc"
      },
      "outputs": [
        {
          "output_type": "stream",
          "name": "stdout",
          "text": [
            "2630\n"
          ]
        }
      ],
      "source": [
        "## Retrait des valeurs Null dans la database\n",
        "\n",
        "df = df.na.drop()\n",
        "print(df.count())\n"
      ]
    },
    {
      "cell_type": "code",
      "source": [
        "from pyspark.sql.functions import countDistinct\n",
        "\n",
        "result = (\n",
        "    df.groupBy(\"nom_region\")\n",
        "      .agg({\"index\": \"count\"})\n",
        ")\n",
        "# Perform the count\n",
        "distinct_count = result.agg(countDistinct(\"nom_region\").alias('distinct_count')).collect()[0]['distinct_count']\n",
        "\n",
        "# Show the result\n",
        "result.show()\n",
        "print(f\"The number of region is: {distinct_count}\")"
      ],
      "metadata": {
        "colab": {
          "base_uri": "https://localhost:8080/"
        },
        "id": "BdS7BaT8TwhY",
        "outputId": "883873c6-9da5-42f5-cce4-6ffd585e6cea"
      },
      "id": "BdS7BaT8TwhY",
      "execution_count": null,
      "outputs": [
        {
          "output_type": "stream",
          "name": "stdout",
          "text": [
            "+--------------------+------------+\n",
            "|          nom_region|count(index)|\n",
            "+--------------------+------------+\n",
            "|    Pays de la Loire|         161|\n",
            "|Bourgogne-Franche...|         157|\n",
            "| Centre-Val de Loire|         114|\n",
            "|Auvergne-Rhône-Alpes|         305|\n",
            "|           Grand Est|         194|\n",
            "|              Guyane|           2|\n",
            "|          Martinique|           2|\n",
            "|     Hauts-de-France|         260|\n",
            "|  Nouvelle-Aquitaine|         260|\n",
            "|               Corse|          26|\n",
            "|       Île-de-France|         380|\n",
            "|          Guadeloupe|          16|\n",
            "|           Occitanie|         213|\n",
            "|             Mayotte|           1|\n",
            "|            Bretagne|         154|\n",
            "|           Normandie|         124|\n",
            "|          La Réunion|          26|\n",
            "|Provence-Alpes-Cô...|         235|\n",
            "+--------------------+------------+\n",
            "\n",
            "The number of region is: 18\n"
          ]
        }
      ]
    },
    {
      "cell_type": "markdown",
      "id": "bebc7a83",
      "metadata": {
        "id": "bebc7a83"
      },
      "source": [
        "## Creation de transformers\n",
        "TF-IDF, VectorAssembler et StringIndexer"
      ]
    },
    {
      "cell_type": "markdown",
      "id": "c0e765ce",
      "metadata": {
        "id": "c0e765ce"
      },
      "source": [
        "### TF-IDF"
      ]
    },
    {
      "cell_type": "code",
      "execution_count": null,
      "id": "18bedf02",
      "metadata": {
        "id": "18bedf02"
      },
      "outputs": [],
      "source": [
        "## definit les transformers pour le TF-IDF\n",
        "\n",
        "tokenizer = Tokenizer(inputCol=\"Titre\", outputCol=\"words\")\n",
        "remover = StopWordsRemover(inputCol=\"words\", outputCol=\"filtered_words\")\n",
        "hashingTF = HashingTF(inputCol=\"filtered_words\", outputCol=\"rawFeatures\")\n",
        "idf = IDF(inputCol=\"rawFeatures\", outputCol=\"WordFeature\")\n"
      ]
    },
    {
      "cell_type": "markdown",
      "id": "79701241",
      "metadata": {
        "id": "79701241"
      },
      "source": [
        "### VectorAssembler"
      ]
    },
    {
      "cell_type": "code",
      "execution_count": null,
      "id": "2c6016f4",
      "metadata": {
        "id": "2c6016f4"
      },
      "outputs": [],
      "source": [
        "# assemblage des features en vecteur spark\n",
        "\n",
        "assembler = VectorAssembler(inputCols=[\"Adresse_codepostal\", \"Adresse_latitude\", \"Adresse_longitude\"],\n",
        "                            outputCol=\"features\")"
      ]
    },
    {
      "cell_type": "markdown",
      "id": "80e2c286",
      "metadata": {
        "id": "80e2c286"
      },
      "source": [
        "### StringIndexer"
      ]
    },
    {
      "cell_type": "code",
      "execution_count": null,
      "id": "7abece91",
      "metadata": {
        "id": "7abece91"
      },
      "outputs": [],
      "source": [
        "# turn 'code region' into an index pour la classification\n",
        "\n",
        "indexer = StringIndexer(inputCol=\"code_region\", outputCol=\"label\")"
      ]
    },
    {
      "cell_type": "markdown",
      "id": "c7c0078a",
      "metadata": {
        "id": "c7c0078a"
      },
      "source": [
        "## Classification\n",
        "(Random forest classifier et Decision Tree Classifier)"
      ]
    },
    {
      "cell_type": "code",
      "execution_count": null,
      "id": "d85eb2bc",
      "metadata": {
        "id": "d85eb2bc"
      },
      "outputs": [],
      "source": [
        "# Test de 2 classifiers\n",
        "\n",
        "rf= RandomForestClassifier(labelCol=\"label\", featuresCol=\"features\", impurity='gini', maxBins=32)\n",
        "lr= LogisticRegression(labelCol=\"label\", featuresCol=\"features\", maxIter=10, regParam=0.01)"
      ]
    },
    {
      "cell_type": "markdown",
      "id": "7a15382d",
      "metadata": {
        "id": "7a15382d"
      },
      "source": [
        "## Pipeline"
      ]
    },
    {
      "cell_type": "code",
      "execution_count": null,
      "id": "4b4eb6b2",
      "metadata": {
        "id": "4b4eb6b2"
      },
      "outputs": [],
      "source": [
        "# Pipeline pour les transformations (pre-processing part)\n",
        "# in order to make the code more organized, maintainable, and reusable, I'm not including classifiers.\n",
        "\n",
        "pipeline_transformers = Pipeline(stages=[tokenizer, remover,\n",
        "                                         hashingTF, idf, assembler, indexer])\n",
        "model = pipeline_transformers.fit(df)\n",
        "df_transformed = model.transform(df)"
      ]
    },
    {
      "cell_type": "markdown",
      "source": [
        "## Entrainement des modèles et évaluations"
      ],
      "metadata": {
        "id": "C3vOysVRrEra"
      },
      "id": "C3vOysVRrEra"
    },
    {
      "cell_type": "code",
      "source": [
        "## creation de data test et data train (80% training, 20% testing)\n",
        "\n",
        "(training_data, test_data) = df_transformed.randomSplit([0.8, 0.2], seed=123)"
      ],
      "metadata": {
        "id": "qfh9en-KWyl5"
      },
      "id": "qfh9en-KWyl5",
      "execution_count": null,
      "outputs": []
    },
    {
      "cell_type": "code",
      "source": [
        "# Create a Pipeline with the RandomForestClassifier\n",
        "pipeline_rf = Pipeline(stages=[rf])\n",
        "\n",
        "# Start the timer\n",
        "start_time = datetime.now()\n",
        "\n",
        "# Train the model on the training set\n",
        "model_rf = pipeline_rf.fit(training_data)\n",
        "\n",
        "# Stop the timer\n",
        "end_time = datetime.now()\n",
        "elapsed_time_1 = (end_time - start_time).total_seconds()\n",
        "\n",
        "# Print the time taken to fit the model\n",
        "print(f\"Model fitting took {elapsed_time_1} seconds.\")\n",
        "\n",
        "# Make predictions on the test set\n",
        "predictions_rf = model_rf.transform(test_data)\n",
        "\n",
        "# Evaluate the model's performance on the test set\n",
        "evaluator = MulticlassClassificationEvaluator(labelCol=\"label\", predictionCol=\"prediction\", metricName=\"accuracy\")\n",
        "accuracy_rf = evaluator.evaluate(predictions_rf)\n",
        "precision_rf = evaluator.evaluate(predictions_rf, {evaluator.metricName: \"weightedPrecision\"})\n",
        "recall_rf = evaluator.evaluate(predictions_rf, {evaluator.metricName: \"weightedRecall\"})\n",
        "f1_rf = evaluator.evaluate(predictions_rf, {evaluator.metricName: \"f1\"})\n",
        "\n",
        "print(f\"Accuracy on Test Set: {accuracy_rf}\")\n",
        "print(f\"Precision on Test Set: {precision_rf}\")\n",
        "print(f\"Recall on Test Set: {recall_rf}\")\n",
        "print(f\"F1 Score on Test Set: {f1_rf}\")"
      ],
      "metadata": {
        "colab": {
          "base_uri": "https://localhost:8080/"
        },
        "id": "HlcaoqxS2gdw",
        "outputId": "a5070293-43b6-46b1-a147-6e963b5c9e64"
      },
      "id": "HlcaoqxS2gdw",
      "execution_count": null,
      "outputs": [
        {
          "output_type": "stream",
          "name": "stdout",
          "text": [
            "Model fitting took 56.193381 seconds.\n",
            "Accuracy on Test Set: 0.9505703422053232\n",
            "Precision on Test Set: 0.9519212000930103\n",
            "Recall on Test Set: 0.9505703422053231\n",
            "F1 Score on Test Set: 0.9508601201533273\n"
          ]
        }
      ]
    },
    {
      "cell_type": "code",
      "source": [
        "# Create a Pipeline with the RandomForestClassifier\n",
        "pipeline_lr = Pipeline(stages=[lr])\n",
        "\n",
        "# Start the timer\n",
        "start_time = datetime.now()\n",
        "\n",
        "# Train the model on the training set\n",
        "model_lr = pipeline_lr.fit(training_data)\n",
        "\n",
        "# Stop the timer\n",
        "end_time = datetime.now()\n",
        "elapsed_time_2 = (end_time - start_time).total_seconds()\n",
        "\n",
        "# Print the time taken to fit the model\n",
        "print(f\"Model fitting took {elapsed_time_2} seconds.\")\n",
        "\n",
        "# Make predictions on the test set\n",
        "predictions_lr = model_lr.transform(test_data)\n",
        "\n",
        "# Evaluate the model's performance on the test set\n",
        "evaluator = MulticlassClassificationEvaluator(labelCol=\"label\", predictionCol=\"prediction\", metricName=\"accuracy\")\n",
        "accuracy_lr = evaluator.evaluate(predictions_lr)\n",
        "precision_lr = evaluator.evaluate(predictions_lr, {evaluator.metricName: \"weightedPrecision\"})\n",
        "recall_lr = evaluator.evaluate(predictions_lr, {evaluator.metricName: \"weightedRecall\"})\n",
        "f1_lr = evaluator.evaluate(predictions_lr, {evaluator.metricName: \"f1\"})\n",
        "\n",
        "print(f\"Accuracy on Test Set: {accuracy_lr}\")\n",
        "print(f\"Precision on Test Set: {precision_lr}\")\n",
        "print(f\"Recall on Test Set: {recall_lr}\")\n",
        "print(f\"F1 Score on Test Set: {f1_lr}\")"
      ],
      "metadata": {
        "colab": {
          "base_uri": "https://localhost:8080/"
        },
        "id": "DSP0L_R06RHh",
        "outputId": "22708618-837d-49cc-8bef-1ac41a3b8da1"
      },
      "id": "DSP0L_R06RHh",
      "execution_count": null,
      "outputs": [
        {
          "output_type": "stream",
          "name": "stdout",
          "text": [
            "Model fitting took 39.508834 seconds.\n",
            "Accuracy on Test Set: 0.4011406844106464\n",
            "Precision on Test Set: 0.2611600069790855\n",
            "Recall on Test Set: 0.4011406844106464\n",
            "F1 Score on Test Set: 0.30415005249286464\n"
          ]
        }
      ]
    },
    {
      "cell_type": "code",
      "source": [
        "import pandas as pd\n",
        "\n",
        "data = {\"Model\": [\"RandomForest\", \"LogisticRegression\"],\n",
        "        \"Accuracy\": [accuracy_rf, accuracy_lr],\n",
        "        \"Precision\": [precision_rf, precision_lr],\n",
        "        \"recall\": [recall_rf, recall_lr],\n",
        "        \"F1 Score\": [f1_rf, f1_lr],\n",
        "        \"run Time\": [elapsed_time_1, elapsed_time_2]}\n",
        "\n",
        "pandas_df = pd.DataFrame(data)\n",
        "\n",
        "# Display the Pandas DataFrame\n",
        "print(pandas_df)"
      ],
      "metadata": {
        "colab": {
          "base_uri": "https://localhost:8080/"
        },
        "id": "VDx5fgFwCYaB",
        "outputId": "dfbdac79-c187-49f9-a78e-d9bb2c6bf9a8"
      },
      "id": "VDx5fgFwCYaB",
      "execution_count": null,
      "outputs": [
        {
          "output_type": "stream",
          "name": "stdout",
          "text": [
            "                Model  Accuracy  Precision    recall  F1 Score   run Time\n",
            "0        RandomForest  0.950570   0.951921  0.950570   0.95086  56.193381\n",
            "1  LogisticRegression  0.401141   0.261160  0.401141   0.30415  39.508834\n"
          ]
        }
      ]
    },
    {
      "cell_type": "code",
      "execution_count": null,
      "id": "2dd157c6",
      "metadata": {
        "id": "2dd157c6"
      },
      "outputs": [],
      "source": [
        "spark.stop()"
      ]
    }
  ],
  "metadata": {
    "kernelspec": {
      "display_name": "Python 3 (ipykernel)",
      "language": "python",
      "name": "python3"
    },
    "language_info": {
      "codemirror_mode": {
        "name": "ipython",
        "version": 3
      },
      "file_extension": ".py",
      "mimetype": "text/x-python",
      "name": "python",
      "nbconvert_exporter": "python",
      "pygments_lexer": "ipython3",
      "version": "3.11.4"
    },
    "colab": {
      "provenance": [],
      "include_colab_link": true
    }
  },
  "nbformat": 4,
  "nbformat_minor": 5
}